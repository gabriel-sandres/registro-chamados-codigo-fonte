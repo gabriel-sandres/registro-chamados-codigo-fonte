{
 "cells": [
  {
   "cell_type": "code",
   "execution_count": 448,
   "id": "3b365aa8",
   "metadata": {},
   "outputs": [
    {
     "data": {
      "text/plain": [
       "False"
      ]
     },
     "execution_count": 448,
     "metadata": {},
     "output_type": "execute_result"
    }
   ],
   "source": [
    "import pandas as pd\n",
    "import os\n",
    "import time\n",
    "from selenium.webdriver.support.ui import Select\n",
    "from selenium.webdriver.common.by import By\n",
    "from selenium.webdriver.support.ui import WebDriverWait\n",
    "from selenium.webdriver.support import expected_conditions as EC\n",
    "from selenium.webdriver.common.action_chains import ActionChains\n",
    "from selenium.webdriver.common.keys import Keys\n",
    "from selenium import webdriver\n",
    "from selenium.webdriver.chrome.options import Options\n",
    "from selenium.webdriver.chrome.service import Service as ChromeService\n",
    "from webdriver_manager.chrome import ChromeDriverManager\n",
    "from dotenv import load_dotenv\n",
    "load_dotenv()\n",
    "\n"
   ]
  },
  {
   "cell_type": "code",
   "execution_count": 449,
   "id": "fa98e7d3",
   "metadata": {},
   "outputs": [],
   "source": [
    "folderFile = r\"C:\\Users\\gabriel.sandres\\OneDrive - Sicoob\\Área de Trabalho\\cod_fonte_registro\\registro-chamados-codigo-fonte\\planilha_registro.xlsx\""
   ]
  },
  {
   "cell_type": "code",
   "execution_count": 450,
   "id": "1e42f5e9",
   "metadata": {},
   "outputs": [],
   "source": [
    "df = pd.read_excel(folderFile)\n"
   ]
  },
  {
   "cell_type": "code",
   "execution_count": 451,
   "id": "bb76f5e6",
   "metadata": {},
   "outputs": [
    {
     "name": "stdout",
     "output_type": "stream",
     "text": [
      "0 055.348.991-74 3179 WP12345678 Pix Dúvida Técnica\n",
      "Fim  loop\n",
      "1 05534899174 3179 COB123456789 Cobraça Bancária Dúvida Técnica\n",
      "Fim  loop\n"
     ]
    },
    {
     "name": "stderr",
     "output_type": "stream",
     "text": [
      "C:\\Users\\gabriel.sandres\\AppData\\Local\\Temp\\ipykernel_23516\\4280248987.py:2: FutureWarning: Series.__getitem__ treating keys as positions is deprecated. In a future version, integer keys will always be treated as labels (consistent with DataFrame behavior). To access a value by position, use `ser.iloc[pos]`\n",
      "  print(i,l[0],l[1],l[2],l[3],l[4])\n"
     ]
    }
   ],
   "source": [
    "for i,l in df.iterrows():\n",
    "    print(i,l[0],l[1],l[2],l[3],l[4])\n",
    "    #cpf = l[0]\n",
    "    #cpf = '05534899174'\n",
    "    #cooperativa = '3179'\n",
    "\n",
    "    #login = 'gabriel.sandres'\n",
    "    #senha = 'C@tolica61136'\n",
    "    print(\"Fim  loop\")\n",
    " \n",
    "    "
   ]
  },
  {
   "cell_type": "code",
   "execution_count": 452,
   "id": "c48c8537",
   "metadata": {},
   "outputs": [],
   "source": [
    "cpf ='05534899174'\n",
    "cooperativa = '3179'\n",
    "categoria ='Pix'\n",
    "subcategoria = \"Api Sicoob\"\n",
    "servico = \"Dúvida Negocial\"\n",
    "protocolo_plad = \"WP12345\"\n",
    "descricao = \"Chamado registrado via automação\"\n",
    "\n",
    "login = 'gabriel.sandres'\n",
    "senha = 'C@tolica61136'"
   ]
  },
  {
   "cell_type": "code",
   "execution_count": 453,
   "id": "bcb99af2",
   "metadata": {},
   "outputs": [],
   "source": [
    "# Bloco 1 – Acessar a URL do Visão 360 (com webdriver-manager)\n",
    " \n",
    "options = Options()\n",
    "options.add_argument(\"--start-maximized\")  # Abre o navegador em tela cheia\n",
    " \n",
    "# Inicializa o driver automaticamente com webdriver-manager\n",
    "service = ChromeService(ChromeDriverManager().install())\n",
    "driver = webdriver.Chrome(service=service, options=options)\n",
    " \n",
    "# Acessa o Visão 360\n",
    "url = \"https://portal.sisbr.coop.br/auth/realms/sisbr/protocol/openid-connect/auth?&scope=openid&client_id=visao360-sisbr&response_type=code&redirect_uri=https://portal.sisbr.coop.br/visao360/consult\"\n",
    "driver.get(url)\n",
    " \n",
    "# Aguarda o carregamento da página\n",
    "import time\n",
    "time.sleep(5)"
   ]
  },
  {
   "cell_type": "code",
   "execution_count": 454,
   "id": "73426719",
   "metadata": {},
   "outputs": [
    {
     "name": "stdout",
     "output_type": "stream",
     "text": [
      "Aguardando escaneamento do QR Code e inserção do código...\n",
      "QR Code validado com sucesso!\n"
     ]
    }
   ],
   "source": [
    "# Bloco 2 – Realizar o login com os dados do .env\n",
    " \n",
    "# Captura login e senha do .env\n",
    "#usuario = os.getenv(\"LOGIN_USERNAME\")\n",
    "#senha = os.getenv(\"LOGIN_PASSWORD\")\n",
    "\n",
    " \n",
    "# Espera e preenche o campo de login\n",
    "WebDriverWait(driver, 10).until(EC.presence_of_element_located((By.ID, \"username\"))).send_keys(login)\n",
    " \n",
    "# Preenche o campo de senha\n",
    "WebDriverWait(driver, 10).until(EC.presence_of_element_located((By.ID, \"password\"))).send_keys(senha)\n",
    " \n",
    "# Clica no botão \"Logar\"\n",
    "WebDriverWait(driver, 10).until(EC.element_to_be_clickable((By.ID, \"kc-login\"))).click()\n",
    " \n",
    "# Espera o QR Code aparecer (tempo ajustável, ex: 30s para você escanear e digitar o código)\n",
    "print(\"Aguardando escaneamento do QR Code e inserção do código...\")\n",
    "WebDriverWait(driver, 60).until(lambda d: \"visao360/consult\" in d.current_url)\n",
    "print(\"QR Code validado com sucesso!\")"
   ]
  },
  {
   "cell_type": "code",
   "execution_count": 456,
   "id": "bef089c1",
   "metadata": {},
   "outputs": [
    {
     "name": "stdout",
     "output_type": "stream",
     "text": [
      "Documento preenchido e consulta realizada com sucesso.\n"
     ]
    }
   ],
   "source": [
    "# Bloco 3 – Preencher CPF/CNPJ e clicar em \"Consultar\"\n",
    " \n",
    " # Aguarda o overlay sumir antes de prosseguir\n",
    "WebDriverWait(driver, 20).until(\n",
    "    EC.invisibility_of_element_located((By.CLASS_NAME, \"ngx-spinner-overlay\"))\n",
    ")\n",
    " \n",
    "# Espera o campo de documento estar presente e clica antes de digitar (boa prática com Angular)\n",
    "campo_documento = WebDriverWait(driver, 15).until(\n",
    "    EC.element_to_be_clickable((By.XPATH, '//*[@id=\"app\"]/section/sc-content/sc-consult/div/div[2]/div/sc-card-content/div/main/form/div/div[2]/sc-form-field/div/input'))\n",
    ")                                        \n",
    "\n",
    "campo_documento.click()\n",
    "campo_documento.clear()\n",
    "campo_documento.send_keys(cpf)  # 'cpf' já definido anteriormente\n",
    " \n",
    "# Aguarda botão 'Consultar' ficar habilitado (classe muda ou botão fica clicável)\n",
    "botao_consultar = WebDriverWait(driver, 10).until(\n",
    "    EC.element_to_be_clickable((By.XPATH, '//*[@id=\"app\"]/section/sc-content/sc-consult/div/div[2]/div/sc-card-content/div/main/form/div/div[3]/sc-button/button'))\n",
    ")\n",
    "\n",
    "botao_consultar.click()\n",
    " \n",
    "print(\"Documento preenchido e consulta realizada com sucesso.\")\n",
    "\n",
    "\n"
   ]
  },
  {
   "cell_type": "code",
   "execution_count": 457,
   "id": "67290a70",
   "metadata": {},
   "outputs": [
    {
     "name": "stdout",
     "output_type": "stream",
     "text": [
      "Botão 'Abrir' clicado com sucesso.\n"
     ]
    }
   ],
   "source": [
    "# Bloco 4 – Clicar no botão \"Abrir\"\n",
    " \n",
    "# Aguarda o botão \"Abrir\" ficar visível e clicável\n",
    "\n",
    "botao_abrir = WebDriverWait(driver, 10).until(\n",
    "\n",
    "    EC.element_to_be_clickable((By.XPATH, '//*[@id=\"app\"]/section/sc-content/sc-consult/div/div[2]/div/sc-card-content/div/main/form/div/div[4]/sc-card/div/sc-card-content/div/div/div[2]/sc-button/button'))\n",
    "\n",
    ")\n",
    " \n",
    "# Clica no botão \"Abrir\"\n",
    "\n",
    "botao_abrir.click()\n",
    " \n",
    "print(\"Botão 'Abrir' clicado com sucesso.\")\n",
    "\n",
    " "
   ]
  },
  {
   "cell_type": "code",
   "execution_count": 458,
   "id": "d5068a3e",
   "metadata": {},
   "outputs": [
    {
     "name": "stdout",
     "output_type": "stream",
     "text": [
      "Conta da cooperativa 3179 selecionada com sucesso.\n"
     ]
    }
   ],
   "source": [
    "# Bloco 5 – Selecionar conta conforme a cooperativa\n",
    " \n",
    "# Aguarda o <select> de contas estar disponível\n",
    "select_element = WebDriverWait(driver, 10).until(\n",
    "    EC.presence_of_element_located((By.ID, \"accounts\"))\n",
    ")\n",
    " \n",
    "# Captura todas as opções da conta\n",
    "options = select_element.find_elements(By.TAG_NAME, \"option\")\n",
    " \n",
    "# Percorre as opções e seleciona a que contém a cooperativa\n",
    "conta_encontrada = False\n",
    "for option in options:\n",
    "    if f\"Coop: {cooperativa}\" in option.text:\n",
    "        option.click()\n",
    "        conta_encontrada = True\n",
    "        print(f\"Conta da cooperativa {cooperativa} selecionada com sucesso.\")\n",
    "        break\n",
    " \n",
    "# Se nenhuma conta compatível for encontrada\n",
    "if not conta_encontrada:\n",
    "    print(f\"⚠️ Nenhuma conta com cooperativa {cooperativa} encontrada.\")"
   ]
  },
  {
   "cell_type": "code",
   "execution_count": 459,
   "id": "8a6e1b4a",
   "metadata": {},
   "outputs": [
    {
     "name": "stdout",
     "output_type": "stream",
     "text": [
      "⚠️ Produto 'Cobrança' não foi selecionado corretamente.\n"
     ]
    }
   ],
   "source": [
    "# Bloco 6 – Selecionar o produto \"Cobrança\"\n",
    " \n",
    "# XPath do elemento que representa o card do produto \"Cobrança\"\n",
    "xpath_cobranca = '//*[@id=\"products\"]/div[10]/sc-card/div/div/div/div'\n",
    " \n",
    "# Aguarda o produto \"Cobrança\" ficar clicável\n",
    "produto_cobranca = WebDriverWait(driver, 10).until(\n",
    "    EC.element_to_be_clickable((By.XPATH, xpath_cobranca))\n",
    ")\n",
    " \n",
    "# Clica no produto \"Cobrança\"\n",
    "produto_cobranca.click()\n",
    "time.sleep(1.5)  # tempo curto para a classe atualizar visualmente\n",
    " \n",
    "# Verifica se o produto foi selecionado (classe mudou para 'selected-product')\n",
    "pai = produto_cobranca.find_element(By.XPATH, \"..\")  # sobe um nível na hierarquia\n",
    "if \"selected-product\" in pai.get_attribute(\"class\"):\n",
    "    print(\"Produto 'Cobrança' selecionado com sucesso.\")\n",
    "else:\n",
    "    print(\"⚠️ Produto 'Cobrança' não foi selecionado corretamente.\")"
   ]
  },
  {
   "cell_type": "code",
   "execution_count": 460,
   "id": "f2780ef7",
   "metadata": {},
   "outputs": [
    {
     "name": "stdout",
     "output_type": "stream",
     "text": [
      "Formulário de chamado aberto com sucesso.\n"
     ]
    }
   ],
   "source": [
    "# Bloco 7 – Abrir o formulário (clicar no botão com ícone de Registro de chamado)\n",
    " \n",
    "# Aguarda o botão de \"Registro de chamado\" estar visível e clicável\n",
    "botao_formulario = WebDriverWait(driver, 10).until(\n",
    "    EC.element_to_be_clickable((By.XPATH, \"//button[@tooltip='Registro de chamado']\"))\n",
    ")\n",
    " \n",
    "# Clica no botão\n",
    "botao_formulario.click()\n",
    " \n",
    "print(\"Formulário de chamado aberto com sucesso.\")"
   ]
  },
  {
   "cell_type": "code",
   "execution_count": 461,
   "id": "3884ecb4",
   "metadata": {},
   "outputs": [
    {
     "name": "stdout",
     "output_type": "stream",
     "text": [
      "✅ Campo 'Tipo de Atendimento' preenchido com sucesso.\n"
     ]
    }
   ],
   "source": [
    "# Bloco 8 – Preencher corretamente o campo \"Tipo de Atendimento\"\n",
    " \n",
    "# Aguarda o campo de tipo de atendimento\n",
    "campo_tipo_atendimento = WebDriverWait(driver, 10).until(\n",
    "    EC.element_to_be_clickable((By.ID, \"serviceTypeId\"))\n",
    ")\n",
    " \n",
    "# Usa ActionChains para clicar e digitar como um humano\n",
    "actions = ActionChains(driver)\n",
    "actions.click(campo_tipo_atendimento).pause(0.3)\n",
    " \n",
    "# Digita cada letra de \"Chat Receptivo\" lentamente\n",
    "for letra in \"Chat Receptivo\":\n",
    "    actions.send_keys(letra).pause(0.1)\n",
    " \n",
    "# Pressiona seta para baixo e enter para selecionar da lista\n",
    "actions.send_keys(Keys.ARROW_DOWN).pause(0.3).send_keys(Keys.ENTER).perform()\n",
    " \n",
    "# Aguarda e verifica se o campo ficou válido\n",
    "time.sleep(1)\n",
    "classe_atual = campo_tipo_atendimento.get_attribute(\"class\")\n",
    "if \"ng-valid\" in classe_atual:\n",
    "    print(\"✅ Campo 'Tipo de Atendimento' preenchido com sucesso.\")\n",
    "else:\n",
    "    print(\"⚠️ O campo foi preenchido, mas a aplicação ainda não o validou.\")"
   ]
  },
  {
   "cell_type": "code",
   "execution_count": 462,
   "id": "30da84a8",
   "metadata": {},
   "outputs": [
    {
     "name": "stdout",
     "output_type": "stream",
     "text": [
      "✅ Campo 'Categoria' preenchido e validado com sucesso.\n"
     ]
    }
   ],
   "source": [
    "# Bloco 9 – Preencher o campo \"Categoria\"\n",
    " \n",
    "# Aguarda o campo de categoria ficar clicável\n",
    "\n",
    "campo_categoria = WebDriverWait(driver, 10).until(\n",
    "\n",
    "    EC.element_to_be_clickable((By.ID, \"categoryId\"))\n",
    "\n",
    ")\n",
    " \n",
    "# Usa ActionChains para simular digitação realista\n",
    "\n",
    "actions = ActionChains(driver)\n",
    "\n",
    "actions.click(campo_categoria).pause(0.3)\n",
    " \n",
    "# Digita lentamente o nome da categoria (exemplo: \"Cobrança\")\n",
    "\n",
    "for letra in categoria:\n",
    "\n",
    "    actions.send_keys(letra).pause(0.1)\n",
    " \n",
    "# Seleciona a opção com seta para baixo + enter\n",
    "\n",
    "actions.send_keys(Keys.ARROW_DOWN).pause(0.3).send_keys(Keys.ENTER).perform()\n",
    " \n",
    "# Aguarda e valida com base na classe\n",
    "\n",
    "time.sleep(1)\n",
    "\n",
    "classe_atual = campo_categoria.get_attribute(\"class\")\n",
    "\n",
    "if \"ng-valid\" in classe_atual:\n",
    "\n",
    "    print(\"✅ Campo 'Categoria' preenchido e validado com sucesso.\")\n",
    "\n",
    "else:\n",
    "\n",
    "    print(\"⚠️ O campo 'Categoria' foi preenchido, mas não foi validado pela aplicação.\")\n",
    "\n",
    " "
   ]
  },
  {
   "cell_type": "code",
   "execution_count": 464,
   "id": "f0de5ad1",
   "metadata": {},
   "outputs": [
    {
     "name": "stdout",
     "output_type": "stream",
     "text": [
      "✅ Campo 'Subcategoria' preenchido e validado com sucesso.\n"
     ]
    }
   ],
   "source": [
    "# Bloco 10 – Preencher o campo \"Subcategoria\"\n",
    " \n",
    "# Aguarda o campo ficar clicável\n",
    "\n",
    "campo_subcategoria = WebDriverWait(driver, 10).until(\n",
    "\n",
    "    EC.element_to_be_clickable((By.ID, \"subCategoryId\"))\n",
    "\n",
    ")\n",
    " \n",
    "# Usa ActionChains para simular digitação realista\n",
    "\n",
    "actions = ActionChains(driver)\n",
    "\n",
    "actions.click(campo_subcategoria).pause(0.3)\n",
    " \n",
    "# Digita lentamente o valor da subcategoria (ex: variável vinda da planilha)\n",
    "\n",
    "for letra in subcategoria:\n",
    "\n",
    "    actions.send_keys(letra).pause(0.1)\n",
    " \n",
    "# Seleciona da lista usando ARROW_DOWN + ENTER\n",
    "\n",
    "actions.send_keys(Keys.ARROW_DOWN).pause(0.3).send_keys(Keys.ENTER).perform()\n",
    " \n",
    "# Aguarda e verifica se o campo foi validado corretamente\n",
    "\n",
    "time.sleep(7)\n",
    "\n",
    "classe_atual = campo_subcategoria.get_attribute(\"class\")\n",
    "\n",
    "if \"ng-valid\" in classe_atual:\n",
    "\n",
    "    print(\"✅ Campo 'Subcategoria' preenchido e validado com sucesso.\")\n",
    "\n",
    "else:\n",
    "\n",
    "    print(\"⚠️ O campo 'Subcategoria' foi preenchido, mas não foi validado pela aplicação.\")\n",
    "\n",
    " "
   ]
  },
  {
   "cell_type": "code",
   "execution_count": 466,
   "id": "fdb4ca5e",
   "metadata": {},
   "outputs": [
    {
     "name": "stdout",
     "output_type": "stream",
     "text": [
      "✅ Campo 'Serviço' preenchido e validado com sucesso.\n"
     ]
    }
   ],
   "source": [
    "# Bloco 11 – Preencher o campo \"Serviço\"\n",
    " \n",
    "# Aguarda o campo de serviço ficar clicável\n",
    "\n",
    "campo_servico = WebDriverWait(driver, 20).until(\n",
    "\n",
    "    EC.element_to_be_clickable((By.ID, \"serviceId\"))\n",
    "\n",
    ")\n",
    " \n",
    "# Usa ActionChains para digitação simulada\n",
    "\n",
    "actions = ActionChains(driver)\n",
    "\n",
    "actions.click(campo_servico).pause(0.3)\n",
    " \n",
    "# Digita o conteúdo da variável `servico` letra por letra\n",
    "\n",
    "for letra in servico:\n",
    "\n",
    "    actions.send_keys(letra).pause(0.1)\n",
    " \n",
    "# Simula seleção com seta para baixo + enter\n",
    "\n",
    "actions.send_keys(Keys.ARROW_DOWN).pause(0.3).send_keys(Keys.ENTER).perform()\n",
    " \n",
    "# Aguarda e valida o preenchimento\n",
    "\n",
    "time.sleep(1)\n",
    "\n",
    "classe_atual = campo_servico.get_attribute(\"class\")\n",
    "\n",
    "if \"ng-valid\" in classe_atual:\n",
    "\n",
    "    print(\"✅ Campo 'Serviço' preenchido e validado com sucesso.\")\n",
    "\n",
    "else:\n",
    "\n",
    "    print(\"⚠️ O campo 'Serviço' foi preenchido, mas não foi validado pela aplicação.\")\n",
    "\n",
    " #Preencher o formulario - Subcategoria"
   ]
  },
  {
   "cell_type": "code",
   "execution_count": 468,
   "id": "88b6bd07",
   "metadata": {},
   "outputs": [
    {
     "name": "stdout",
     "output_type": "stream",
     "text": [
      "✅ Campo 'Canal de autoatendimento' selecionado com sucesso.\n"
     ]
    }
   ],
   "source": [
    "# Bloco 12 – Preencher o campo \"Canal de autoatendimento\"\n",
    " \n",
    "# Aguarda o select ficar presente\n",
    "\n",
    "select_element = WebDriverWait(driver, 10).until(\n",
    "\n",
    "    EC.presence_of_element_located((By.ID, \"Canal De Autoatendimento\"))\n",
    "\n",
    ")\n",
    " \n",
    "# Usa Select do Selenium para selecionar pelo texto visível\n",
    "\n",
    "select = Select(select_element)\n",
    "\n",
    "select.select_by_visible_text(\"Não Se Aplica\")\n",
    " \n",
    "# Aguarda e valida se o campo foi aceito (classe ng-valid)\n",
    "\n",
    "time.sleep(0.5)\n",
    "\n",
    "classe_atual = select_element.get_attribute(\"class\")\n",
    "\n",
    "if \"ng-valid\" in classe_atual:\n",
    "\n",
    "    print(\"✅ Campo 'Canal de autoatendimento' selecionado com sucesso.\")\n",
    "\n",
    "else:\n",
    "\n",
    "    print(\"⚠️ O campo 'Canal de autoatendimento' foi preenchido, mas não foi validado pela aplicação.\")\n",
    "\n",
    " "
   ]
  },
  {
   "cell_type": "code",
   "execution_count": 469,
   "id": "30ce5331",
   "metadata": {},
   "outputs": [
    {
     "name": "stdout",
     "output_type": "stream",
     "text": [
      "✅ Campo 'Protocolo PLAD' preenchido e validado com sucesso.\n"
     ]
    }
   ],
   "source": [
    "# Bloco 13 – Preencher o campo \"Protocolo PLAD\"\n",
    " \n",
    "# Aguarda o campo estar clicável\n",
    "\n",
    "campo_protocolo = WebDriverWait(driver, 10).until(\n",
    "\n",
    "    EC.element_to_be_clickable((By.ID, \"Protocolo Plad\"))\n",
    "\n",
    ")\n",
    " \n",
    "# Clica e digita o valor da variável protocolo_plad\n",
    "\n",
    "campo_protocolo.click()\n",
    "\n",
    "campo_protocolo.clear()\n",
    "\n",
    "campo_protocolo.send_keys(protocolo_plad)\n",
    " \n",
    "# Aguarda e valida o preenchimento\n",
    "\n",
    "time.sleep(1)\n",
    "\n",
    "classe_atual = campo_protocolo.get_attribute(\"class\")\n",
    "\n",
    "if \"ng-valid\" in classe_atual:\n",
    "\n",
    "    print(\"✅ Campo 'Protocolo PLAD' preenchido e validado com sucesso.\")\n",
    "\n",
    "else:\n",
    "\n",
    "    print(\"⚠️ O campo 'Protocolo PLAD' foi preenchido, mas não foi validado pela aplicação.\")\n",
    "\n",
    " "
   ]
  },
  {
   "cell_type": "code",
   "execution_count": 470,
   "id": "811be8b2",
   "metadata": {},
   "outputs": [
    {
     "name": "stdout",
     "output_type": "stream",
     "text": [
      "✅ Campo 'Descrição' preenchido e validado com sucesso.\n"
     ]
    }
   ],
   "source": [
    "# Bloco 14 – Preencher o campo \"Descrição\"\n",
    " \n",
    "# Verifica se a descrição é válida ou precisa usar fallback\n",
    "\n",
    "descricao_final = descricao if descricao and len(descricao.strip()) >= 10 else \"Chamado registrado automaticamente via RPA\"\n",
    " \n",
    "# Aguarda o textarea de descrição ficar clicável\n",
    "\n",
    "campo_descricao = WebDriverWait(driver, 10).until(\n",
    "\n",
    "    EC.element_to_be_clickable((By.ID, \"description\"))\n",
    "\n",
    ")\n",
    " \n",
    "# Clica, limpa e digita a descrição\n",
    "\n",
    "campo_descricao.click()\n",
    "\n",
    "campo_descricao.clear()\n",
    "\n",
    "campo_descricao.send_keys(descricao_final)\n",
    " \n",
    "# Aguarda e valida o preenchimento\n",
    "\n",
    "time.sleep(1)\n",
    "\n",
    "classe_atual = campo_descricao.get_attribute(\"class\")\n",
    "\n",
    "if \"ng-valid\" in classe_atual:\n",
    "\n",
    "    print(\"✅ Campo 'Descrição' preenchido e validado com sucesso.\")\n",
    "\n",
    "else:\n",
    "\n",
    "    print(\"⚠️ O campo 'Descrição' foi preenchido, mas não foi validado pela aplicação.\")\n",
    " "
   ]
  },
  {
   "cell_type": "code",
   "execution_count": 471,
   "id": "34440e20",
   "metadata": {},
   "outputs": [
    {
     "name": "stdout",
     "output_type": "stream",
     "text": [
      "✅ Primeiro clique no botão 'Registrar' realizado com sucesso.\n"
     ]
    }
   ],
   "source": [
    "# Bloco 15 – Clicar no botão \"Registrar\"\n",
    " \n",
    "# Aguarda o botão \"Registrar\" ficar clicável\n",
    "\n",
    "botao_registrar = WebDriverWait(driver, 20).until(\n",
    "\n",
    "    EC.element_to_be_clickable((By.XPATH, '//*[@id=\"actionbar hide\"]/div/div[2]/form/div/div[20]/sc-button/button'))\n",
    "\n",
    ")\n",
    " \n",
    "# Clica no botão\n",
    "\n",
    "botao_registrar.click()\n",
    " \n",
    "print(\"✅ Primeiro clique no botão 'Registrar' realizado com sucesso.\")\n",
    "\n",
    " "
   ]
  },
  {
   "cell_type": "code",
   "execution_count": 472,
   "id": "83ebf549",
   "metadata": {},
   "outputs": [
    {
     "name": "stdout",
     "output_type": "stream",
     "text": [
      "✅ Segundo clique no botão 'Registrar' (confirmação) realizado com sucesso.\n"
     ]
    }
   ],
   "source": [
    "# Bloco 16 – Clicar no segundo botão \"Registrar\" (confirmação do modal)\n",
    " \n",
    "# Aguarda o botão \"Registrar\" dentro do modal ficar clicável\n",
    "\n",
    "botao_confirmar_registro = WebDriverWait(driver, 20).until(\n",
    "\n",
    "    EC.element_to_be_clickable((By.XPATH, '//*[@id=\"modal\"]/div/sc-modal-footer/div/div/div[2]/sc-button/button'))\n",
    "\n",
    ")\n",
    " \n",
    "# Clica no botão de confirmação\n",
    "\n",
    "botao_confirmar_registro.click()\n",
    " \n",
    "print(\"✅ Segundo clique no botão 'Registrar' (confirmação) realizado com sucesso.\")\n",
    "\n",
    " "
   ]
  },
  {
   "cell_type": "code",
   "execution_count": 473,
   "id": "a40f5e6f",
   "metadata": {},
   "outputs": [
    {
     "name": "stdout",
     "output_type": "stream",
     "text": [
      "✅ Protocolo capturado: SPI20250610003257\n",
      "✅ Protocolo colado na planilha com sucesso.\n"
     ]
    },
    {
     "name": "stderr",
     "output_type": "stream",
     "text": [
      "C:\\Users\\gabriel.sandres\\AppData\\Local\\Temp\\ipykernel_23516\\1482184037.py:14: FutureWarning: Setting an item of incompatible dtype is deprecated and will raise an error in a future version of pandas. Value 'SPI20250610003257' has dtype incompatible with float64, please explicitly cast to a compatible dtype first.\n",
      "  df.loc[i, 'Protocolo Visão'] = numero_protocolo\n"
     ]
    }
   ],
   "source": [
    "# Aguarda o elemento com o protocolo ficar visível\n",
    "elemento_protocolo = WebDriverWait(driver, 20).until(\n",
    "    EC.visibility_of_element_located((By.XPATH, '//*[@id=\"actionbar hide\"]/div/div[2]/form/div/div[2]/sc-card/div/sc-card-content/div/div/div[1]/h5'))\n",
    ")\n",
    "\n",
    "# Extrai o texto (número do protocolo)\n",
    "numero_protocolo = elemento_protocolo.text.strip()\n",
    "print(f\"✅ Protocolo capturado: {numero_protocolo}\")\n",
    "\n",
    "# Carrega a planilha\n",
    "df = pd.read_excel(folderFile)\n",
    "\n",
    "# Atualiza o valor na linha correspondente (índice i dentro do loop for)\n",
    "df.loc[i, 'Protocolo Visão'] = numero_protocolo\n",
    "\n",
    "# Salva de volta\n",
    "df.to_excel(folderFile, index=False)\n",
    "print(\"✅ Protocolo colado na planilha com sucesso.\")\n"
   ]
  },
  {
   "cell_type": "code",
   "execution_count": 474,
   "id": "13cae7e1",
   "metadata": {},
   "outputs": [
    {
     "name": "stdout",
     "output_type": "stream",
     "text": [
      "✅ Botão 'Finalizar Atendimento' clicado com sucesso.\n"
     ]
    }
   ],
   "source": [
    "# Bloco – Clicar em \"Finalizar Atendimento\"\n",
    "\n",
    "try:\n",
    "\n",
    "    # Aguarda o botão \"Finalizar Atendimento\" estar clicável\n",
    "\n",
    "    btn_finalizar = WebDriverWait(driver, 20).until(\n",
    "\n",
    "        EC.element_to_be_clickable((By.XPATH, '//*[@id=\"actionbar hide\"]/div/div[2]/form/div/div[5]/sc-button/button'))\n",
    "\n",
    "    )\n",
    "\n",
    "    btn_finalizar.click()\n",
    "\n",
    "    print(\"✅ Botão 'Finalizar Atendimento' clicado com sucesso.\")\n",
    "\n",
    "except Exception as e:\n",
    "\n",
    "    print(\"❌ Erro ao clicar no botão 'Finalizar Atendimento':\", e)\n",
    "\n",
    " "
   ]
  },
  {
   "cell_type": "code",
   "execution_count": 475,
   "id": "d96bb257",
   "metadata": {},
   "outputs": [
    {
     "name": "stdout",
     "output_type": "stream",
     "text": [
      "✅ Botão 'Confirmar' clicado com sucesso.\n"
     ]
    }
   ],
   "source": [
    "# Bloco – Clicar em \"Confirmar\" para finalizar o atendimento\n",
    "\n",
    "try:\n",
    "\n",
    "    # Aguarda o botão \"Confirmar\" estar clicável\n",
    "\n",
    "    btn_confirmar = WebDriverWait(driver, 20).until(\n",
    "\n",
    "        EC.element_to_be_clickable((By.XPATH, '//*[@id=\"modal\"]/div/main/div/div[4]/button'))\n",
    "\n",
    "    )\n",
    "\n",
    "    btn_confirmar.click()\n",
    "\n",
    "    print(\"✅ Botão 'Confirmar' clicado com sucesso.\")\n",
    "\n",
    "except Exception as e:\n",
    "\n",
    "    print(\"❌ Erro ao clicar no botão 'Confirmar':\", e)\n",
    "\n",
    " "
   ]
  },
  {
   "cell_type": "code",
   "execution_count": null,
   "id": "d654f961",
   "metadata": {},
   "outputs": [],
   "source": [
    "#Clicar em \"Confirmar\""
   ]
  }
 ],
 "metadata": {
  "kernelspec": {
   "display_name": "Python 3",
   "language": "python",
   "name": "python3"
  },
  "language_info": {
   "codemirror_mode": {
    "name": "ipython",
    "version": 3
   },
   "file_extension": ".py",
   "mimetype": "text/x-python",
   "name": "python",
   "nbconvert_exporter": "python",
   "pygments_lexer": "ipython3",
   "version": "3.12.8"
  }
 },
 "nbformat": 4,
 "nbformat_minor": 5
}
